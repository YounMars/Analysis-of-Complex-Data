{
 "cells": [
  {
   "cell_type": "code",
   "execution_count": 46,
   "id": "1c53ba89-bbea-4edb-9615-784de819324b",
   "metadata": {},
   "outputs": [],
   "source": [
    "import json \n",
    "import pandas as pd"
   ]
  },
  {
   "cell_type": "code",
   "execution_count": 66,
   "id": "6c52cbb2-f5f8-4e0e-a9c2-3b1d82c54d1c",
   "metadata": {},
   "outputs": [],
   "source": [
    "\n",
    "def read_chunks(file, cols, chunk_size=500000):\n",
    "    df = pd.read_json(\n",
    "        f'/Users/ryounes/Documents/Feup/RecSNA_Project/yelp_academic_dataset_{file}.json', chunksize = chunk_size, lines=True)\n",
    "    \n",
    "    chunk_list = [chunk[cols] for chunk in df ]\n",
    "\n",
    "    return pd.concat(chunk_list, ignore_index = True, join = 'outer', axis = 0)\n",
    "    \n"
   ]
  },
  {
   "cell_type": "code",
   "execution_count": 50,
   "id": "4fd34665-2ab0-4382-af1e-b9dcec71219f",
   "metadata": {},
   "outputs": [],
   "source": [
    "\n",
    "business_json_path = '/Users/ryounes/Documents/Feup/RecSNA_Project/yelp_academic_dataset_business.json'\n",
    "df_b = pd.read_json(business_json_path, lines=True)\n"
   ]
  },
  {
   "cell_type": "code",
   "execution_count": 67,
   "id": "b74e3502-2e9c-4c43-bdba-ebbe27cc3d02",
   "metadata": {},
   "outputs": [],
   "source": [
    "df_u = read_chunks('user', ['user_id','name'])"
   ]
  },
  {
   "cell_type": "code",
   "execution_count": 68,
   "id": "fed1afb0-4738-44cc-ab7a-b33f56435ced",
   "metadata": {},
   "outputs": [
    {
     "data": {
      "text/html": [
       "<div>\n",
       "<style scoped>\n",
       "    .dataframe tbody tr th:only-of-type {\n",
       "        vertical-align: middle;\n",
       "    }\n",
       "\n",
       "    .dataframe tbody tr th {\n",
       "        vertical-align: top;\n",
       "    }\n",
       "\n",
       "    .dataframe thead th {\n",
       "        text-align: right;\n",
       "    }\n",
       "</style>\n",
       "<table border=\"1\" class=\"dataframe\">\n",
       "  <thead>\n",
       "    <tr style=\"text-align: right;\">\n",
       "      <th></th>\n",
       "      <th>user_id</th>\n",
       "      <th>name</th>\n",
       "    </tr>\n",
       "  </thead>\n",
       "  <tbody>\n",
       "    <tr>\n",
       "      <th>0</th>\n",
       "      <td>qVc8ODYU5SZjKXVBgXdI7w</td>\n",
       "      <td>Walker</td>\n",
       "    </tr>\n",
       "    <tr>\n",
       "      <th>1</th>\n",
       "      <td>j14WgRoU_-2ZE1aw1dXrJg</td>\n",
       "      <td>Daniel</td>\n",
       "    </tr>\n",
       "    <tr>\n",
       "      <th>2</th>\n",
       "      <td>2WnXYQFK0hXEoTxPtV2zvg</td>\n",
       "      <td>Steph</td>\n",
       "    </tr>\n",
       "    <tr>\n",
       "      <th>3</th>\n",
       "      <td>SZDeASXq7o05mMNLshsdIA</td>\n",
       "      <td>Gwen</td>\n",
       "    </tr>\n",
       "    <tr>\n",
       "      <th>4</th>\n",
       "      <td>hA5lMy-EnncsH4JoR-hFGQ</td>\n",
       "      <td>Karen</td>\n",
       "    </tr>\n",
       "    <tr>\n",
       "      <th>...</th>\n",
       "      <td>...</td>\n",
       "      <td>...</td>\n",
       "    </tr>\n",
       "    <tr>\n",
       "      <th>1987892</th>\n",
       "      <td>fB3jbHi3m0L2KgGOxBv6uw</td>\n",
       "      <td>Jerrold</td>\n",
       "    </tr>\n",
       "    <tr>\n",
       "      <th>1987893</th>\n",
       "      <td>68czcr4BxJyMQ9cJBm6C7Q</td>\n",
       "      <td>Jane</td>\n",
       "    </tr>\n",
       "    <tr>\n",
       "      <th>1987894</th>\n",
       "      <td>1x3KMskYxOuJCjRz70xOqQ</td>\n",
       "      <td>Shomari</td>\n",
       "    </tr>\n",
       "    <tr>\n",
       "      <th>1987895</th>\n",
       "      <td>ulfGl4tdbrH05xKzh5lnog</td>\n",
       "      <td>Susanne</td>\n",
       "    </tr>\n",
       "    <tr>\n",
       "      <th>1987896</th>\n",
       "      <td>wL5jPrLRVCK_Pmo4lM1zpA</td>\n",
       "      <td>Isa</td>\n",
       "    </tr>\n",
       "  </tbody>\n",
       "</table>\n",
       "<p>1987897 rows × 2 columns</p>\n",
       "</div>"
      ],
      "text/plain": [
       "                        user_id     name\n",
       "0        qVc8ODYU5SZjKXVBgXdI7w   Walker\n",
       "1        j14WgRoU_-2ZE1aw1dXrJg   Daniel\n",
       "2        2WnXYQFK0hXEoTxPtV2zvg    Steph\n",
       "3        SZDeASXq7o05mMNLshsdIA     Gwen\n",
       "4        hA5lMy-EnncsH4JoR-hFGQ    Karen\n",
       "...                         ...      ...\n",
       "1987892  fB3jbHi3m0L2KgGOxBv6uw  Jerrold\n",
       "1987893  68czcr4BxJyMQ9cJBm6C7Q     Jane\n",
       "1987894  1x3KMskYxOuJCjRz70xOqQ  Shomari\n",
       "1987895  ulfGl4tdbrH05xKzh5lnog  Susanne\n",
       "1987896  wL5jPrLRVCK_Pmo4lM1zpA      Isa\n",
       "\n",
       "[1987897 rows x 2 columns]"
      ]
     },
     "execution_count": 68,
     "metadata": {},
     "output_type": "execute_result"
    }
   ],
   "source": [
    "df_u"
   ]
  },
  {
   "cell_type": "code",
   "execution_count": null,
   "id": "25aea0f9-aa2a-4650-9511-538e637103e0",
   "metadata": {},
   "outputs": [],
   "source": []
  }
 ],
 "metadata": {
  "kernelspec": {
   "display_name": "Python 3 (ipykernel)",
   "language": "python",
   "name": "python3"
  },
  "language_info": {
   "codemirror_mode": {
    "name": "ipython",
    "version": 3
   },
   "file_extension": ".py",
   "mimetype": "text/x-python",
   "name": "python",
   "nbconvert_exporter": "python",
   "pygments_lexer": "ipython3",
   "version": "3.11.2"
  }
 },
 "nbformat": 4,
 "nbformat_minor": 5
}
