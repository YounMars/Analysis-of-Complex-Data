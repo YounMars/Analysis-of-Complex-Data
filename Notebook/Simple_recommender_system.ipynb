{
 "cells": [
  {
   "cell_type": "code",
   "execution_count": 2,
   "id": "1bd7248b-5154-41d3-a824-7a05d0b34829",
   "metadata": {},
   "outputs": [
    {
     "name": "stdout",
     "output_type": "stream",
     "text": [
      "Requirement already satisfied: surprise in /Library/Frameworks/Python.framework/Versions/3.11/lib/python3.11/site-packages (0.1)\n",
      "Requirement already satisfied: scikit-surprise in /Library/Frameworks/Python.framework/Versions/3.11/lib/python3.11/site-packages (from surprise) (1.1.3)\n",
      "Requirement already satisfied: joblib>=1.0.0 in /Library/Frameworks/Python.framework/Versions/3.11/lib/python3.11/site-packages (from scikit-surprise->surprise) (1.3.2)\n",
      "Requirement already satisfied: numpy>=1.17.3 in /Library/Frameworks/Python.framework/Versions/3.11/lib/python3.11/site-packages (from scikit-surprise->surprise) (1.24.2)\n",
      "Requirement already satisfied: scipy>=1.3.2 in /Library/Frameworks/Python.framework/Versions/3.11/lib/python3.11/site-packages (from scikit-surprise->surprise) (1.11.2)\n",
      "\u001b[33mWARNING: You are using pip version 21.3.1; however, version 23.2.1 is available.\n",
      "You should consider upgrading via the '/Library/Frameworks/Python.framework/Versions/3.11/bin/python3.11 -m pip install --upgrade pip' command.\u001b[0m\n"
     ]
    }
   ],
   "source": [
    "!pip install surprise"
   ]
  },
  {
   "cell_type": "code",
   "execution_count": 3,
   "id": "1136b07f-2fd2-4ce0-b5b5-4f857913eb36",
   "metadata": {},
   "outputs": [],
   "source": [
    "import numpy as np\n",
    "import pandas as pd\n",
    "from surprise import Dataset, Reader, NormalPredictor, KNNBasic, KNNWithZScore, KNNWithMeans, KNNWithZScore, SVD\n",
    "from surprise.model_selection import train_test_split, cross_validate\n",
    "from collections import defaultdict\n",
    "from surprise import accuracy"
   ]
  },
  {
   "cell_type": "code",
   "execution_count": 4,
   "id": "fe7926d3-7e07-4bdd-9ae0-19911b75cfd6",
   "metadata": {},
   "outputs": [],
   "source": [
    "def read_chunks(file, cols, chunk_size=500000):\n",
    "    df = pd.read_json(\n",
    "        f'/Users/ryounes/Documents/Feup/RecSNA_Project/yelp_academic_dataset_{file}.json', chunksize = chunk_size, lines=True)\n",
    "    \n",
    "    chunk_list = [chunk[cols] for chunk in df ]\n",
    "\n",
    "    return pd.concat(chunk_list, ignore_index = True, join = 'outer', axis = 0)"
   ]
  },
  {
   "cell_type": "code",
   "execution_count": 5,
   "id": "05e2acf1-a75d-4334-93d4-96bbe88a1564",
   "metadata": {},
   "outputs": [],
   "source": [
    "business_json_path = '/Users/ryounes/Documents/Feup/RecSNA_Project/yelp_academic_dataset_business.json'\n",
    "df_b = pd.read_json(business_json_path, lines=True)"
   ]
  },
  {
   "cell_type": "code",
   "execution_count": 6,
   "id": "f9f637db-9789-4c4e-8bdf-cb821768a378",
   "metadata": {},
   "outputs": [],
   "source": [
    "df_u = read_chunks('user', ['user_id','name', 'friends'])"
   ]
  },
  {
   "cell_type": "code",
   "execution_count": 7,
   "id": "6b8a34ce-e3ad-491e-9d5b-2936cc371e0a",
   "metadata": {},
   "outputs": [],
   "source": [
    "df_r = read_chunks('review', ['review_id','user_id', 'business_id','stars'])"
   ]
  },
  {
   "cell_type": "code",
   "execution_count": 8,
   "id": "c7609cd5-bcbb-4139-9fef-14c4b6f2c12d",
   "metadata": {},
   "outputs": [],
   "source": [
    "df_philadelphia_b = df_b[df_b['city']== 'Philadelphia']"
   ]
  },
  {
   "cell_type": "code",
   "execution_count": 9,
   "id": "1d19cfbe-25f6-4cf2-abd1-dfa2460830d5",
   "metadata": {},
   "outputs": [
    {
     "data": {
      "text/html": [
       "<div>\n",
       "<style scoped>\n",
       "    .dataframe tbody tr th:only-of-type {\n",
       "        vertical-align: middle;\n",
       "    }\n",
       "\n",
       "    .dataframe tbody tr th {\n",
       "        vertical-align: top;\n",
       "    }\n",
       "\n",
       "    .dataframe thead th {\n",
       "        text-align: right;\n",
       "    }\n",
       "</style>\n",
       "<table border=\"1\" class=\"dataframe\">\n",
       "  <thead>\n",
       "    <tr style=\"text-align: right;\">\n",
       "      <th></th>\n",
       "      <th>review_id</th>\n",
       "      <th>user_id</th>\n",
       "      <th>business_id</th>\n",
       "      <th>stars</th>\n",
       "    </tr>\n",
       "  </thead>\n",
       "  <tbody>\n",
       "    <tr>\n",
       "      <th>0</th>\n",
       "      <td>KU_O5udG6zpxOg-VcAEodg</td>\n",
       "      <td>mh_-eMZ6K5RLWhZyISBhwA</td>\n",
       "      <td>XQfwVwDr-v0ZS3_CbbE5Xw</td>\n",
       "      <td>3</td>\n",
       "    </tr>\n",
       "    <tr>\n",
       "      <th>1</th>\n",
       "      <td>BiTunyQ73aT9WBnpR9DZGw</td>\n",
       "      <td>OyoGAe7OKpv6SyGZT5g77Q</td>\n",
       "      <td>7ATYjTIgM3jUlt4UM3IypQ</td>\n",
       "      <td>5</td>\n",
       "    </tr>\n",
       "    <tr>\n",
       "      <th>2</th>\n",
       "      <td>saUsX_uimxRlCVr67Z4Jig</td>\n",
       "      <td>8g_iMtfSiwikVnbP2etR0A</td>\n",
       "      <td>YjUWPpI6HXG530lwP-fb2A</td>\n",
       "      <td>3</td>\n",
       "    </tr>\n",
       "    <tr>\n",
       "      <th>3</th>\n",
       "      <td>AqPFMleE6RsU23_auESxiA</td>\n",
       "      <td>_7bHUi9Uuf5__HHc_Q8guQ</td>\n",
       "      <td>kxX2SOes4o-D3ZQBkiMRfA</td>\n",
       "      <td>5</td>\n",
       "    </tr>\n",
       "    <tr>\n",
       "      <th>5</th>\n",
       "      <td>JrIxlS1TzJ-iCu79ul40cQ</td>\n",
       "      <td>eUta8W_HdHMXPzLBBZhL1A</td>\n",
       "      <td>04UD14gamNjLY0IDYVhHJg</td>\n",
       "      <td>1</td>\n",
       "    </tr>\n",
       "    <tr>\n",
       "      <th>...</th>\n",
       "      <td>...</td>\n",
       "      <td>...</td>\n",
       "      <td>...</td>\n",
       "      <td>...</td>\n",
       "    </tr>\n",
       "    <tr>\n",
       "      <th>6990275</th>\n",
       "      <td>H0RIamZu0B0Ei0P4aeh3sQ</td>\n",
       "      <td>qskILQ3k0I_qcCMI-k6_QQ</td>\n",
       "      <td>jals67o91gcrD4DC81Vk6w</td>\n",
       "      <td>5</td>\n",
       "    </tr>\n",
       "    <tr>\n",
       "      <th>6990276</th>\n",
       "      <td>shTPgbgdwTHSuU67mGCmZQ</td>\n",
       "      <td>Zo0th2m8Ez4gLSbHftiQvg</td>\n",
       "      <td>2vLksaMmSEcGbjI5gywpZA</td>\n",
       "      <td>5</td>\n",
       "    </tr>\n",
       "    <tr>\n",
       "      <th>6990277</th>\n",
       "      <td>YNfNhgZlaaCO5Q_YJR4rEw</td>\n",
       "      <td>mm6E4FbCMwJmb7kPDZ5v2Q</td>\n",
       "      <td>R1khUUxidqfaJmcpmGd4aw</td>\n",
       "      <td>4</td>\n",
       "    </tr>\n",
       "    <tr>\n",
       "      <th>6990278</th>\n",
       "      <td>i-I4ZOhoX70Nw5H0FwrQUA</td>\n",
       "      <td>YwAMC-jvZ1fvEUum6QkEkw</td>\n",
       "      <td>Rr9kKArrMhSLVE9a53q-aA</td>\n",
       "      <td>5</td>\n",
       "    </tr>\n",
       "    <tr>\n",
       "      <th>6990279</th>\n",
       "      <td>RwcKOdEuLRHNJe4M9-qpqg</td>\n",
       "      <td>6JehEvdoCvZPJ_XIxnzIIw</td>\n",
       "      <td>VAeEXLbEcI9Emt9KGYq9aA</td>\n",
       "      <td>3</td>\n",
       "    </tr>\n",
       "  </tbody>\n",
       "</table>\n",
       "<p>3674527 rows × 4 columns</p>\n",
       "</div>"
      ],
      "text/plain": [
       "                      review_id                 user_id  \\\n",
       "0        KU_O5udG6zpxOg-VcAEodg  mh_-eMZ6K5RLWhZyISBhwA   \n",
       "1        BiTunyQ73aT9WBnpR9DZGw  OyoGAe7OKpv6SyGZT5g77Q   \n",
       "2        saUsX_uimxRlCVr67Z4Jig  8g_iMtfSiwikVnbP2etR0A   \n",
       "3        AqPFMleE6RsU23_auESxiA  _7bHUi9Uuf5__HHc_Q8guQ   \n",
       "5        JrIxlS1TzJ-iCu79ul40cQ  eUta8W_HdHMXPzLBBZhL1A   \n",
       "...                         ...                     ...   \n",
       "6990275  H0RIamZu0B0Ei0P4aeh3sQ  qskILQ3k0I_qcCMI-k6_QQ   \n",
       "6990276  shTPgbgdwTHSuU67mGCmZQ  Zo0th2m8Ez4gLSbHftiQvg   \n",
       "6990277  YNfNhgZlaaCO5Q_YJR4rEw  mm6E4FbCMwJmb7kPDZ5v2Q   \n",
       "6990278  i-I4ZOhoX70Nw5H0FwrQUA  YwAMC-jvZ1fvEUum6QkEkw   \n",
       "6990279  RwcKOdEuLRHNJe4M9-qpqg  6JehEvdoCvZPJ_XIxnzIIw   \n",
       "\n",
       "                    business_id  stars  \n",
       "0        XQfwVwDr-v0ZS3_CbbE5Xw      3  \n",
       "1        7ATYjTIgM3jUlt4UM3IypQ      5  \n",
       "2        YjUWPpI6HXG530lwP-fb2A      3  \n",
       "3        kxX2SOes4o-D3ZQBkiMRfA      5  \n",
       "5        04UD14gamNjLY0IDYVhHJg      1  \n",
       "...                         ...    ...  \n",
       "6990275  jals67o91gcrD4DC81Vk6w      5  \n",
       "6990276  2vLksaMmSEcGbjI5gywpZA      5  \n",
       "6990277  R1khUUxidqfaJmcpmGd4aw      4  \n",
       "6990278  Rr9kKArrMhSLVE9a53q-aA      5  \n",
       "6990279  VAeEXLbEcI9Emt9KGYq9aA      3  \n",
       "\n",
       "[3674527 rows x 4 columns]"
      ]
     },
     "execution_count": 9,
     "metadata": {},
     "output_type": "execute_result"
    }
   ],
   "source": [
    "# Filter reviews for businesses in Philadelphia directly\n",
    "business_ids_philadelphia = df_philadelphia_b['business_id'].unique()\n",
    "df_r_philadelphia = df_r[df_r['business_id'].isin(business_ids_philadelphia)]\n",
    "\n",
    "# Extract unique user IDs who left reviews for businesses in Philadelphia\n",
    "philadelphia_reviewed_user_ids = df_r_philadelphia['user_id'].unique()\n",
    "\n",
    "# Extract friends' user IDs directly from the 'friends' column\n",
    "all_friends_user_ids = df_u[df_u['user_id'].isin(philadelphia_reviewed_user_ids)]['friends'].str.split(', ').explode().unique()\n",
    "\n",
    "# Filter the user data frame to include the users and their friends\n",
    "df_users_philadelphia_and_friends = df_u[df_u['user_id'].isin(all_friends_user_ids) | df_u['user_id'].isin(philadelphia_reviewed_user_ids)]\n",
    "\n",
    "# Filter reviews by users who reviewed businesses in Philadelphia or their friends\n",
    "df_r_u_and_f_PHI = df_r[(df_r['user_id'].isin(df_users_philadelphia_and_friends['user_id'])) | (df_r['business_id'].isin(business_ids_philadelphia))]\n",
    "\n",
    "df_r_u_and_f_PHI\n"
   ]
  },
  {
   "cell_type": "code",
   "execution_count": 10,
   "id": "43fb9f6a-e19c-4d91-b5f1-0b5b472fe7ee",
   "metadata": {},
   "outputs": [],
   "source": [
    "# Create a Surprise Dataset from the merged DataFrame\n",
    "reader = Reader(rating_scale=(1, 5))  # Define the rating scale\n",
    "data = Dataset.load_from_df(df_r_u_and_f_PHI[['user_id', 'business_id', 'stars']], reader)\n"
   ]
  },
  {
   "cell_type": "code",
   "execution_count": 11,
   "id": "609cff08-830d-424e-a60b-41e81cddbade",
   "metadata": {},
   "outputs": [],
   "source": [
    "# Split the data into training and testing sets\n",
    "trainset, testset = train_test_split(data, test_size=0.2, random_state=42)"
   ]
  },
  {
   "cell_type": "code",
   "execution_count": 13,
   "id": "2520f310-45b1-44d7-9358-59429ddd5c73",
   "metadata": {},
   "outputs": [],
   "source": [
    "def evaluate_algorithm(algo, trainset, testset):\n",
    "    algo.fit(trainset)\n",
    "    predictions = algo.test(testset)\n",
    "\n",
    "    # Compute and return RMSE\n",
    "    rmse = accuracy.rmse(predictions)\n",
    "    return rmse"
   ]
  },
  {
   "cell_type": "code",
   "execution_count": 1,
   "id": "08291a01-e358-4a01-ac22-97b2ce59c396",
   "metadata": {},
   "outputs": [
    {
     "ename": "NameError",
     "evalue": "name 'KNNBasic' is not defined",
     "output_type": "error",
     "traceback": [
      "\u001b[0;31m---------------------------------------------------------------------------\u001b[0m",
      "\u001b[0;31mNameError\u001b[0m                                 Traceback (most recent call last)",
      "Cell \u001b[0;32mIn[1], line 1\u001b[0m\n\u001b[0;32m----> 1\u001b[0m ubcf_algo \u001b[38;5;241m=\u001b[39m \u001b[43mKNNBasic\u001b[49m(sim_options\u001b[38;5;241m=\u001b[39m{\u001b[38;5;124m'\u001b[39m\u001b[38;5;124muser_based\u001b[39m\u001b[38;5;124m'\u001b[39m: \u001b[38;5;28;01mTrue\u001b[39;00m})\n\u001b[1;32m      2\u001b[0m ubcf_rmse \u001b[38;5;241m=\u001b[39m evaluate_algorithm(ubcf_algo, trainset, testset)\n",
      "\u001b[0;31mNameError\u001b[0m: name 'KNNBasic' is not defined"
     ]
    }
   ],
   "source": [
    "ubcf_algo = KNNBasic(sim_options={'user_based': True})\n",
    "ubcf_rmse = evaluate_algorithm(ubcf_algo, trainset, testset)"
   ]
  },
  {
   "cell_type": "code",
   "execution_count": null,
   "id": "d7e9c412-ad0e-40ed-8ce5-4059cfd999e8",
   "metadata": {},
   "outputs": [],
   "source": [
    "# Build a user-based collaborative filtering recommender model\n",
    "sim_options = {'name': 'cosine', 'user_based': True}\n",
    "model = KNNBasic(sim_options=sim_options)\n",
    "\n",
    "# Train the model on the training set\n",
    "model.fit(trainset)\n",
    "\n",
    "# Make predictions on the test set\n",
    "predictions = model.test(testset)\n",
    "\n",
    "# Evaluate the model using RMSE (Root Mean Squared Error)\n",
    "rmse = accuracy.rmse(predictions)\n",
    "\n",
    "# Example: Get top N recommendations for a user\n",
    "# Replace 'user_id' and 'n' with the actual user ID and the number of recommendations you want.\n",
    "user_id = 'your_user_id'\n",
    "n = 10\n",
    "user_items = data.build_full_trainset().ur[user_id]\n",
    "user_unseen_items = [item for item in trainset.all_items() if item not in user_items]\n",
    "user_unseen_items_ratings = [model.predict(user_id, item_id).est for item_id in user_unseen_items]\n",
    "top_n_items = [x for _, x in sorted(zip(user_unseen_items_ratings, user_unseen_items), reverse=True)][:n]\n",
    "\n",
    "# Print the top N recommended items\n",
    "print(f\"Top {n} Recommended Items for User {user_id}:\")\n",
    "for i, item_id in enumerate(top_n_items, 1):\n",
    "    print(f\"{i}. Business ID: {item_id}\")\n",
    "\n",
    "print(f\"RMSE: {rmse}\")\n"
   ]
  },
  {
   "cell_type": "code",
   "execution_count": null,
   "id": "619c5f01-ced6-4008-b659-b1f9732688c3",
   "metadata": {},
   "outputs": [],
   "source": []
  }
 ],
 "metadata": {
  "kernelspec": {
   "display_name": "Python 3 (ipykernel)",
   "language": "python",
   "name": "python3"
  },
  "language_info": {
   "codemirror_mode": {
    "name": "ipython",
    "version": 3
   },
   "file_extension": ".py",
   "mimetype": "text/x-python",
   "name": "python",
   "nbconvert_exporter": "python",
   "pygments_lexer": "ipython3",
   "version": "3.11.2"
  }
 },
 "nbformat": 4,
 "nbformat_minor": 5
}
