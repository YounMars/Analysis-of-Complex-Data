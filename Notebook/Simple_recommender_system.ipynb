{
 "cells": [
  {
   "cell_type": "code",
   "execution_count": 2,
   "id": "1bd7248b-5154-41d3-a824-7a05d0b34829",
   "metadata": {},
   "outputs": [
    {
     "name": "stdout",
     "output_type": "stream",
     "text": [
      "Requirement already satisfied: surprise in /Library/Frameworks/Python.framework/Versions/3.11/lib/python3.11/site-packages (0.1)\n",
      "Requirement already satisfied: scikit-surprise in /Library/Frameworks/Python.framework/Versions/3.11/lib/python3.11/site-packages (from surprise) (1.1.3)\n",
      "Requirement already satisfied: joblib>=1.0.0 in /Library/Frameworks/Python.framework/Versions/3.11/lib/python3.11/site-packages (from scikit-surprise->surprise) (1.3.2)\n",
      "Requirement already satisfied: numpy>=1.17.3 in /Library/Frameworks/Python.framework/Versions/3.11/lib/python3.11/site-packages (from scikit-surprise->surprise) (1.24.2)\n",
      "Requirement already satisfied: scipy>=1.3.2 in /Library/Frameworks/Python.framework/Versions/3.11/lib/python3.11/site-packages (from scikit-surprise->surprise) (1.11.2)\n",
      "\u001b[33mWARNING: You are using pip version 21.3.1; however, version 23.2.1 is available.\n",
      "You should consider upgrading via the '/Library/Frameworks/Python.framework/Versions/3.11/bin/python3.11 -m pip install --upgrade pip' command.\u001b[0m\n"
     ]
    }
   ],
   "source": [
    "!pip install surprise"
   ]
  },
  {
   "cell_type": "code",
   "execution_count": 1,
   "id": "1136b07f-2fd2-4ce0-b5b5-4f857913eb36",
   "metadata": {},
   "outputs": [],
   "source": [
    "import numpy as np\n",
    "import pandas as pd\n",
    "from surprise import Dataset, Reader, NormalPredictor, KNNBasic, KNNWithZScore, KNNWithMeans, KNNWithZScore, SVD\n",
    "from surprise.model_selection import train_test_split, cross_validate\n",
    "from collections import defaultdict\n",
    "from surprise import accuracy\n",
    "from tqdm import tqdm"
   ]
  },
  {
   "cell_type": "code",
   "execution_count": 2,
   "id": "fe7926d3-7e07-4bdd-9ae0-19911b75cfd6",
   "metadata": {},
   "outputs": [],
   "source": [
    "def read_chunks(file, cols, chunk_size=500000):\n",
    "    df = pd.read_json(\n",
    "        f'/Users/ryounes/Documents/Feup/RecSNA_Project/yelp_academic_dataset_{file}.json', chunksize = chunk_size, lines=True)\n",
    "    \n",
    "    chunk_list = [chunk[cols] for chunk in df ]\n",
    "\n",
    "    return pd.concat(chunk_list, ignore_index = True, join = 'outer', axis = 0)"
   ]
  },
  {
   "cell_type": "code",
   "execution_count": 3,
   "id": "05e2acf1-a75d-4334-93d4-96bbe88a1564",
   "metadata": {},
   "outputs": [],
   "source": [
    "business_json_path = '/Users/ryounes/Documents/Feup/RecSNA_Project/yelp_academic_dataset_business.json'\n",
    "df_b = pd.read_json(business_json_path, lines=True)"
   ]
  },
  {
   "cell_type": "code",
   "execution_count": 4,
   "id": "f9f637db-9789-4c4e-8bdf-cb821768a378",
   "metadata": {},
   "outputs": [],
   "source": [
    "df_u = read_chunks('user', ['user_id','name', 'friends'])"
   ]
  },
  {
   "cell_type": "code",
   "execution_count": 5,
   "id": "6b8a34ce-e3ad-491e-9d5b-2936cc371e0a",
   "metadata": {},
   "outputs": [],
   "source": [
    "df_r = read_chunks('review', ['review_id','user_id', 'business_id','stars'])"
   ]
  },
  {
   "cell_type": "code",
   "execution_count": 11,
   "id": "c7609cd5-bcbb-4139-9fef-14c4b6f2c12d",
   "metadata": {},
   "outputs": [],
   "source": [
    "df_Franklin_b = df_b[df_b['city']== 'Franklin']"
   ]
  },
  {
   "cell_type": "code",
   "execution_count": 12,
   "id": "593ce0ab-7bfb-4511-8fab-466e4dfa8896",
   "metadata": {},
   "outputs": [],
   "source": [
    "# Filter reviews for businesses in Franklin directly\n",
    "business_ids_Franklin = df_Franklin_b['business_id'].unique()\n",
    "df_r_Franklin = df_r[df_r['business_id'].isin(business_ids_tucson)]"
   ]
  },
  {
   "cell_type": "code",
   "execution_count": 18,
   "id": "1d19cfbe-25f6-4cf2-abd1-dfa2460830d5",
   "metadata": {},
   "outputs": [
    {
     "data": {
      "text/html": [
       "<div>\n",
       "<style scoped>\n",
       "    .dataframe tbody tr th:only-of-type {\n",
       "        vertical-align: middle;\n",
       "    }\n",
       "\n",
       "    .dataframe tbody tr th {\n",
       "        vertical-align: top;\n",
       "    }\n",
       "\n",
       "    .dataframe thead th {\n",
       "        text-align: right;\n",
       "    }\n",
       "</style>\n",
       "<table border=\"1\" class=\"dataframe\">\n",
       "  <thead>\n",
       "    <tr style=\"text-align: right;\">\n",
       "      <th></th>\n",
       "      <th>review_id</th>\n",
       "      <th>user_id</th>\n",
       "      <th>business_id</th>\n",
       "      <th>stars</th>\n",
       "    </tr>\n",
       "  </thead>\n",
       "  <tbody>\n",
       "    <tr>\n",
       "      <th>2</th>\n",
       "      <td>saUsX_uimxRlCVr67Z4Jig</td>\n",
       "      <td>8g_iMtfSiwikVnbP2etR0A</td>\n",
       "      <td>YjUWPpI6HXG530lwP-fb2A</td>\n",
       "      <td>3</td>\n",
       "    </tr>\n",
       "    <tr>\n",
       "      <th>24</th>\n",
       "      <td>lUUhg8ltDsUZ9h0xnwY4Dg</td>\n",
       "      <td>RreNy--tOmXMl1en0wiBOg</td>\n",
       "      <td>cPepkJeRMtHapc_b2Oe_dw</td>\n",
       "      <td>4</td>\n",
       "    </tr>\n",
       "    <tr>\n",
       "      <th>30</th>\n",
       "      <td>-P5E9BYUaK7s3PwBF5oAyg</td>\n",
       "      <td>Jha0USGDMefGFRLik_xFQg</td>\n",
       "      <td>bMratNjTG5ZFEA6hVyr-xQ</td>\n",
       "      <td>5</td>\n",
       "    </tr>\n",
       "    <tr>\n",
       "      <th>31</th>\n",
       "      <td>YbMyvlDA2W3Py5lTz8VK-A</td>\n",
       "      <td>4hBhtCSgoxkrFgHa4YAD-w</td>\n",
       "      <td>bbEXAEFr4RYHLlZ-HFssTA</td>\n",
       "      <td>5</td>\n",
       "    </tr>\n",
       "    <tr>\n",
       "      <th>34</th>\n",
       "      <td>p198qZsKOMCUhgdtRWsOKQ</td>\n",
       "      <td>3MpDvy5gEdsbZh9-p92dHg</td>\n",
       "      <td>8QnuWGVNBhzyYXGSeRdi4g</td>\n",
       "      <td>4</td>\n",
       "    </tr>\n",
       "    <tr>\n",
       "      <th>...</th>\n",
       "      <td>...</td>\n",
       "      <td>...</td>\n",
       "      <td>...</td>\n",
       "      <td>...</td>\n",
       "    </tr>\n",
       "    <tr>\n",
       "      <th>6990270</th>\n",
       "      <td>7NgXAuTFiJHYbuepOPwU0w</td>\n",
       "      <td>x1QLCwZGFAjxRRw4EHc3-g</td>\n",
       "      <td>1_BVWDzi5cVqWxNe9bOMMQ</td>\n",
       "      <td>5</td>\n",
       "    </tr>\n",
       "    <tr>\n",
       "      <th>6990272</th>\n",
       "      <td>wD5ZWao_vjyT2h4xmGam8Q</td>\n",
       "      <td>7L7GL5Pi2cf8mbm2Dpw4zw</td>\n",
       "      <td>e_E-jq9mwm7wk75k7Yi-Xw</td>\n",
       "      <td>5</td>\n",
       "    </tr>\n",
       "    <tr>\n",
       "      <th>6990274</th>\n",
       "      <td>YVX1Wsa4LYxjvFwuHBb_gA</td>\n",
       "      <td>RKPkxOYQlM0BjhM-H6_vAw</td>\n",
       "      <td>X4mouE_cMiwbfyCPZ_K-FA</td>\n",
       "      <td>4</td>\n",
       "    </tr>\n",
       "    <tr>\n",
       "      <th>6990275</th>\n",
       "      <td>H0RIamZu0B0Ei0P4aeh3sQ</td>\n",
       "      <td>qskILQ3k0I_qcCMI-k6_QQ</td>\n",
       "      <td>jals67o91gcrD4DC81Vk6w</td>\n",
       "      <td>5</td>\n",
       "    </tr>\n",
       "    <tr>\n",
       "      <th>6990279</th>\n",
       "      <td>RwcKOdEuLRHNJe4M9-qpqg</td>\n",
       "      <td>6JehEvdoCvZPJ_XIxnzIIw</td>\n",
       "      <td>VAeEXLbEcI9Emt9KGYq9aA</td>\n",
       "      <td>3</td>\n",
       "    </tr>\n",
       "  </tbody>\n",
       "</table>\n",
       "<p>1564681 rows × 4 columns</p>\n",
       "</div>"
      ],
      "text/plain": [
       "                      review_id                 user_id  \\\n",
       "2        saUsX_uimxRlCVr67Z4Jig  8g_iMtfSiwikVnbP2etR0A   \n",
       "24       lUUhg8ltDsUZ9h0xnwY4Dg  RreNy--tOmXMl1en0wiBOg   \n",
       "30       -P5E9BYUaK7s3PwBF5oAyg  Jha0USGDMefGFRLik_xFQg   \n",
       "31       YbMyvlDA2W3Py5lTz8VK-A  4hBhtCSgoxkrFgHa4YAD-w   \n",
       "34       p198qZsKOMCUhgdtRWsOKQ  3MpDvy5gEdsbZh9-p92dHg   \n",
       "...                         ...                     ...   \n",
       "6990270  7NgXAuTFiJHYbuepOPwU0w  x1QLCwZGFAjxRRw4EHc3-g   \n",
       "6990272  wD5ZWao_vjyT2h4xmGam8Q  7L7GL5Pi2cf8mbm2Dpw4zw   \n",
       "6990274  YVX1Wsa4LYxjvFwuHBb_gA  RKPkxOYQlM0BjhM-H6_vAw   \n",
       "6990275  H0RIamZu0B0Ei0P4aeh3sQ  qskILQ3k0I_qcCMI-k6_QQ   \n",
       "6990279  RwcKOdEuLRHNJe4M9-qpqg  6JehEvdoCvZPJ_XIxnzIIw   \n",
       "\n",
       "                    business_id  stars  \n",
       "2        YjUWPpI6HXG530lwP-fb2A      3  \n",
       "24       cPepkJeRMtHapc_b2Oe_dw      4  \n",
       "30       bMratNjTG5ZFEA6hVyr-xQ      5  \n",
       "31       bbEXAEFr4RYHLlZ-HFssTA      5  \n",
       "34       8QnuWGVNBhzyYXGSeRdi4g      4  \n",
       "...                         ...    ...  \n",
       "6990270  1_BVWDzi5cVqWxNe9bOMMQ      5  \n",
       "6990272  e_E-jq9mwm7wk75k7Yi-Xw      5  \n",
       "6990274  X4mouE_cMiwbfyCPZ_K-FA      4  \n",
       "6990275  jals67o91gcrD4DC81Vk6w      5  \n",
       "6990279  VAeEXLbEcI9Emt9KGYq9aA      3  \n",
       "\n",
       "[1564681 rows x 4 columns]"
      ]
     },
     "execution_count": 18,
     "metadata": {},
     "output_type": "execute_result"
    }
   ],
   "source": [
    "\n",
    "\n",
    "\n",
    "# Extract unique user IDs who left reviews for businesses in Franklin\n",
    "Franklin_reviewed_user_ids = df_r_Franklin['user_id'].unique()\n",
    "\n",
    "# Extract friends' user IDs directly from the 'friends' column\n",
    "all_friends_user_ids = df_u[df_u['user_id'].isin(Franklin_reviewed_user_ids)]['friends'].str.split(', ').explode().unique()\n",
    "\n",
    "# Filter the user data frame to include the users and their friends\n",
    "df_users_Franklin_and_friends = df_u[df_u['user_id'].isin(all_friends_user_ids) | df_u['user_id'].isin(Franklin_reviewed_user_ids)]\n",
    "\n",
    "# Filter reviews by users who reviewed businesses in tucson or their friends\n",
    "df_r_u_and_f_Franklin = df_r[(df_r['user_id'].isin(df_users_Franklin_and_friends['user_id'])) | (df_r['business_id'].isin(business_ids_Franklin))]\n",
    "\n",
    "df_r_u_and_f_Franklin\n"
   ]
  },
  {
   "cell_type": "code",
   "execution_count": 13,
   "id": "7adaefb1-7c2c-4592-ad85-852993ed4d8e",
   "metadata": {},
   "outputs": [
    {
     "data": {
      "text/html": [
       "<div>\n",
       "<style scoped>\n",
       "    .dataframe tbody tr th:only-of-type {\n",
       "        vertical-align: middle;\n",
       "    }\n",
       "\n",
       "    .dataframe tbody tr th {\n",
       "        vertical-align: top;\n",
       "    }\n",
       "\n",
       "    .dataframe thead th {\n",
       "        text-align: right;\n",
       "    }\n",
       "</style>\n",
       "<table border=\"1\" class=\"dataframe\">\n",
       "  <thead>\n",
       "    <tr style=\"text-align: right;\">\n",
       "      <th></th>\n",
       "      <th>review_id</th>\n",
       "      <th>user_id</th>\n",
       "      <th>business_id</th>\n",
       "      <th>stars</th>\n",
       "    </tr>\n",
       "  </thead>\n",
       "  <tbody>\n",
       "    <tr>\n",
       "      <th>406</th>\n",
       "      <td>89SF8MFoiY4mIhOgzAMVhA</td>\n",
       "      <td>S8rqFLdHCFAeibs52a4QpQ</td>\n",
       "      <td>kKk_2OAnCRbxX5rLqQYBHg</td>\n",
       "      <td>5</td>\n",
       "    </tr>\n",
       "    <tr>\n",
       "      <th>425</th>\n",
       "      <td>HyD8P-CcFU3FR75T0dJAhA</td>\n",
       "      <td>YsaJXW7VWV2bhoN5tokKrg</td>\n",
       "      <td>HCqmx4ENAZ76SAjoalj-MQ</td>\n",
       "      <td>4</td>\n",
       "    </tr>\n",
       "    <tr>\n",
       "      <th>693</th>\n",
       "      <td>3B41BdxNIENFP1EsCCybnw</td>\n",
       "      <td>B0fzg0eUWplNBzfSJsCFDg</td>\n",
       "      <td>VUOD8yD1jwq_pqRP8EETBQ</td>\n",
       "      <td>3</td>\n",
       "    </tr>\n",
       "    <tr>\n",
       "      <th>802</th>\n",
       "      <td>h0N47vwJhQMBH9mscX9zhw</td>\n",
       "      <td>11jQWQYTJkzIE6o3s5ID4Q</td>\n",
       "      <td>hn3Rg2JrhQoDJBEhrpuwWg</td>\n",
       "      <td>1</td>\n",
       "    </tr>\n",
       "    <tr>\n",
       "      <th>804</th>\n",
       "      <td>cgppGTg8LpqZObn_k69w2Q</td>\n",
       "      <td>TSxzAqKzU2OvjWSLoSU8dA</td>\n",
       "      <td>skN2XhKXlcjf53uIwzAedw</td>\n",
       "      <td>5</td>\n",
       "    </tr>\n",
       "    <tr>\n",
       "      <th>...</th>\n",
       "      <td>...</td>\n",
       "      <td>...</td>\n",
       "      <td>...</td>\n",
       "      <td>...</td>\n",
       "    </tr>\n",
       "    <tr>\n",
       "      <th>6989373</th>\n",
       "      <td>Rjv4qf02STIbSUu5mq4W4w</td>\n",
       "      <td>U0kiORl1Gpc8K9jOWWgHzg</td>\n",
       "      <td>yi5VHfhTIPopCob2toQH8A</td>\n",
       "      <td>1</td>\n",
       "    </tr>\n",
       "    <tr>\n",
       "      <th>6989504</th>\n",
       "      <td>B50r7a0YV-WnBgf3bW-Dyw</td>\n",
       "      <td>H9AGj0t3ghPaHug0Ri3kOQ</td>\n",
       "      <td>y8AENR609baGvVe-d_F-dg</td>\n",
       "      <td>1</td>\n",
       "    </tr>\n",
       "    <tr>\n",
       "      <th>6989863</th>\n",
       "      <td>lbhfWHGz3C6dyLp_aiKadg</td>\n",
       "      <td>EUITvLX8HgKpJPs8ngXRPw</td>\n",
       "      <td>7rxLUgFNwAWd69Y4iZnUCA</td>\n",
       "      <td>5</td>\n",
       "    </tr>\n",
       "    <tr>\n",
       "      <th>6990131</th>\n",
       "      <td>sXMx4wAegK38PRbzyWe5Bg</td>\n",
       "      <td>4Ry0q14UDewv2LMa2wibCQ</td>\n",
       "      <td>IoRTm7IAJqBbHpiisUBnLg</td>\n",
       "      <td>4</td>\n",
       "    </tr>\n",
       "    <tr>\n",
       "      <th>6990230</th>\n",
       "      <td>4ncWtKqNnGcpHk2isnWZzg</td>\n",
       "      <td>jM9eD_bmcthFWliBUnWSLA</td>\n",
       "      <td>IoRTm7IAJqBbHpiisUBnLg</td>\n",
       "      <td>5</td>\n",
       "    </tr>\n",
       "  </tbody>\n",
       "</table>\n",
       "<p>56783 rows × 4 columns</p>\n",
       "</div>"
      ],
      "text/plain": [
       "                      review_id                 user_id  \\\n",
       "406      89SF8MFoiY4mIhOgzAMVhA  S8rqFLdHCFAeibs52a4QpQ   \n",
       "425      HyD8P-CcFU3FR75T0dJAhA  YsaJXW7VWV2bhoN5tokKrg   \n",
       "693      3B41BdxNIENFP1EsCCybnw  B0fzg0eUWplNBzfSJsCFDg   \n",
       "802      h0N47vwJhQMBH9mscX9zhw  11jQWQYTJkzIE6o3s5ID4Q   \n",
       "804      cgppGTg8LpqZObn_k69w2Q  TSxzAqKzU2OvjWSLoSU8dA   \n",
       "...                         ...                     ...   \n",
       "6989373  Rjv4qf02STIbSUu5mq4W4w  U0kiORl1Gpc8K9jOWWgHzg   \n",
       "6989504  B50r7a0YV-WnBgf3bW-Dyw  H9AGj0t3ghPaHug0Ri3kOQ   \n",
       "6989863  lbhfWHGz3C6dyLp_aiKadg  EUITvLX8HgKpJPs8ngXRPw   \n",
       "6990131  sXMx4wAegK38PRbzyWe5Bg  4Ry0q14UDewv2LMa2wibCQ   \n",
       "6990230  4ncWtKqNnGcpHk2isnWZzg  jM9eD_bmcthFWliBUnWSLA   \n",
       "\n",
       "                    business_id  stars  \n",
       "406      kKk_2OAnCRbxX5rLqQYBHg      5  \n",
       "425      HCqmx4ENAZ76SAjoalj-MQ      4  \n",
       "693      VUOD8yD1jwq_pqRP8EETBQ      3  \n",
       "802      hn3Rg2JrhQoDJBEhrpuwWg      1  \n",
       "804      skN2XhKXlcjf53uIwzAedw      5  \n",
       "...                         ...    ...  \n",
       "6989373  yi5VHfhTIPopCob2toQH8A      1  \n",
       "6989504  y8AENR609baGvVe-d_F-dg      1  \n",
       "6989863  7rxLUgFNwAWd69Y4iZnUCA      5  \n",
       "6990131  IoRTm7IAJqBbHpiisUBnLg      4  \n",
       "6990230  IoRTm7IAJqBbHpiisUBnLg      5  \n",
       "\n",
       "[56783 rows x 4 columns]"
      ]
     },
     "execution_count": 13,
     "metadata": {},
     "output_type": "execute_result"
    }
   ],
   "source": [
    "df_r_Franklin"
   ]
  },
  {
   "cell_type": "code",
   "execution_count": 19,
   "id": "43fb9f6a-e19c-4d91-b5f1-0b5b472fe7ee",
   "metadata": {},
   "outputs": [],
   "source": [
    "# Create a Surprise Dataset from the merged DataFrame\n",
    "reader = Reader(rating_scale=(1, 5))  # Define the rating scale\n",
    "data = Dataset.load_from_df(df_r_Franklin[['user_id', 'business_id', 'stars']], reader)\n"
   ]
  },
  {
   "cell_type": "code",
   "execution_count": 20,
   "id": "59ab04d7-9250-48fa-a9d5-22d9175db8d7",
   "metadata": {},
   "outputs": [],
   "source": [
    "#df_r_u_and_f_PHI.to_csv(\"df_r_u_and_f_PHI.csv\", sep=',', index=False, encoding='utf-8')"
   ]
  },
  {
   "cell_type": "code",
   "execution_count": 21,
   "id": "609cff08-830d-424e-a60b-41e81cddbade",
   "metadata": {},
   "outputs": [],
   "source": [
    "# Split the data into training and testing sets\n",
    "trainset, testset = train_test_split(data, test_size=0.2, random_state=42 )"
   ]
  },
  {
   "cell_type": "code",
   "execution_count": 22,
   "id": "2520f310-45b1-44d7-9358-59429ddd5c73",
   "metadata": {},
   "outputs": [],
   "source": [
    "# Define evaluation function\n",
    "def evaluate_algorithm(algo, trainset, testset):\n",
    "    algo.fit(trainset)\n",
    "    predictions = algo.test(testset)\n",
    "\n",
    "    # Compute and return RMSE\n",
    "    rmse = accuracy.rmse(predictions)\n",
    "    return rmse"
   ]
  },
  {
   "cell_type": "code",
   "execution_count": 24,
   "id": "08291a01-e358-4a01-ac22-97b2ce59c396",
   "metadata": {},
   "outputs": [
    {
     "name": "stdout",
     "output_type": "stream",
     "text": [
      "Computing the msd similarity matrix...\n",
      "Done computing similarity matrix.\n",
      "RMSE: 1.5499\n"
     ]
    }
   ],
   "source": [
    "ubcf_algo = KNNBasic(sim_options={'user_based': True})\n",
    "ubcf_rmse = evaluate_algorithm(ubcf_algo, trainset, testset)"
   ]
  },
  {
   "cell_type": "code",
   "execution_count": 25,
   "id": "d0cfd2c9-35e4-4caf-a388-92beadf43543",
   "metadata": {},
   "outputs": [
    {
     "name": "stdout",
     "output_type": "stream",
     "text": [
      "Computing the msd similarity matrix...\n",
      "Done computing similarity matrix.\n",
      "RMSE: 1.5693\n"
     ]
    }
   ],
   "source": [
    "ibcf_algo = KNNBasic(sim_options={'user_based': False})\n",
    "ibcf_rmse = evaluate_algorithm(ibcf_algo, trainset, testset)"
   ]
  },
  {
   "cell_type": "code",
   "execution_count": 26,
   "id": "bf86f40e-57f1-435c-98a5-52d17fca9ac5",
   "metadata": {},
   "outputs": [
    {
     "name": "stdout",
     "output_type": "stream",
     "text": [
      "RMSE: 1.3738\n"
     ]
    }
   ],
   "source": [
    "# Singular Value Decomposition (SVD)\n",
    "svd_algo = SVD()\n",
    "svd_rmse = evaluate_algorithm(svd_algo, trainset, testset)"
   ]
  },
  {
   "cell_type": "code",
   "execution_count": 27,
   "id": "f45d7f86-7b47-4db5-acf6-52499582292b",
   "metadata": {},
   "outputs": [
    {
     "name": "stdout",
     "output_type": "stream",
     "text": [
      "Computing the msd similarity matrix...\n",
      "Done computing similarity matrix.\n",
      "Computing the msd similarity matrix...\n",
      "Done computing similarity matrix.\n",
      "Computing the msd similarity matrix...\n",
      "Done computing similarity matrix.\n",
      "Computing the msd similarity matrix...\n",
      "Done computing similarity matrix.\n",
      "Computing the msd similarity matrix...\n",
      "Done computing similarity matrix.\n",
      "Evaluating RMSE, MAE of algorithm KNNBasic on 5 split(s).\n",
      "\n",
      "                  Fold 1  Fold 2  Fold 3  Fold 4  Fold 5  Mean    Std     \n",
      "RMSE (testset)    1.5324  1.5489  1.5447  1.5593  1.5376  1.5446  0.0093  \n",
      "MAE (testset)     1.2708  1.2898  1.2813  1.2944  1.2706  1.2814  0.0097  \n",
      "Fit time          6.47    6.93    7.04    6.94    6.98    6.87    0.21    \n",
      "Test time         0.90    0.68    0.68    0.77    0.69    0.74    0.09    \n"
     ]
    },
    {
     "data": {
      "text/plain": [
       "{'test_rmse': array([1.53243037, 1.54893376, 1.54466266, 1.55928158, 1.53764759]),\n",
       " 'test_mae': array([1.27079061, 1.2897851 , 1.28128195, 1.29435797, 1.27059805]),\n",
       " 'fit_time': (6.466526985168457,\n",
       "  6.929379224777222,\n",
       "  7.03980016708374,\n",
       "  6.9407618045806885,\n",
       "  6.975151300430298),\n",
       " 'test_time': (0.9030938148498535,\n",
       "  0.6826369762420654,\n",
       "  0.6790499687194824,\n",
       "  0.7651760578155518,\n",
       "  0.6874241828918457)}"
      ]
     },
     "execution_count": 27,
     "metadata": {},
     "output_type": "execute_result"
    }
   ],
   "source": [
    "ubcf_algo = KNNBasic(sim_options={'user_based': True})\n",
    "cross_validate(ubcf_algo, data, measures=[\"RMSE\", \"MAE\"], cv=5, verbose=True)"
   ]
  },
  {
   "cell_type": "code",
   "execution_count": null,
   "id": "d7e9c412-ad0e-40ed-8ce5-4059cfd999e8",
   "metadata": {},
   "outputs": [],
   "source": [
    "# Build a user-based collaborative filtering recommender model\n",
    "sim_options = {'name': 'cosine', 'user_based': True}\n",
    "model = KNNBasic(sim_options=sim_options)\n",
    "\n",
    "# Train the model on the training set\n",
    "model.fit(trainset)\n",
    "\n",
    "# Make predictions on the test set\n",
    "predictions = model.test(testset)\n",
    "\n",
    "# Evaluate the model using RMSE (Root Mean Squared Error)\n",
    "rmse = accuracy.rmse(predictions)\n",
    "\n",
    "# Example: Get top N recommendations for a user\n",
    "# Replace 'user_id' and 'n' with the actual user ID and the number of recommendations you want.\n",
    "user_id = 'your_user_id'\n",
    "n = 10\n",
    "user_items = data.build_full_trainset().ur[user_id]\n",
    "user_unseen_items = [item for item in trainset.all_items() if item not in user_items]\n",
    "user_unseen_items_ratings = [model.predict(user_id, item_id).est for item_id in user_unseen_items]\n",
    "top_n_items = [x for _, x in sorted(zip(user_unseen_items_ratings, user_unseen_items), reverse=True)][:n]\n",
    "\n",
    "# Print the top N recommended items\n",
    "print(f\"Top {n} Recommended Items for User {user_id}:\")\n",
    "for i, item_id in enumerate(top_n_items, 1):\n",
    "    print(f\"{i}. Business ID: {item_id}\")\n",
    "\n",
    "print(f\"RMSE: {rmse}\")\n"
   ]
  },
  {
   "cell_type": "code",
   "execution_count": null,
   "id": "619c5f01-ced6-4008-b659-b1f9732688c3",
   "metadata": {},
   "outputs": [],
   "source": []
  }
 ],
 "metadata": {
  "kernelspec": {
   "display_name": "Python 3 (ipykernel)",
   "language": "python",
   "name": "python3"
  },
  "language_info": {
   "codemirror_mode": {
    "name": "ipython",
    "version": 3
   },
   "file_extension": ".py",
   "mimetype": "text/x-python",
   "name": "python",
   "nbconvert_exporter": "python",
   "pygments_lexer": "ipython3",
   "version": "3.11.2"
  }
 },
 "nbformat": 4,
 "nbformat_minor": 5
}
